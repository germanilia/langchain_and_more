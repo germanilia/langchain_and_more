{
  "cells": [
    {
      "cell_type": "code",
      "execution_count": 7,
      "metadata": {
        "id": "3lYCHadRTM7U"
      },
      "outputs": [
        {
          "name": "stdout",
          "output_type": "stream",
          "text": [
            "Requirement already satisfied: langchain in /Users/iliagerman/Work/Sela/ai/courses/langchain_and_more/.venv/lib/python3.11/site-packages (0.0.274)\n",
            "Requirement already satisfied: PyYAML>=5.3 in /Users/iliagerman/Work/Sela/ai/courses/langchain_and_more/.venv/lib/python3.11/site-packages (from langchain) (6.0.1)\n",
            "Requirement already satisfied: SQLAlchemy<3,>=1.4 in /Users/iliagerman/Work/Sela/ai/courses/langchain_and_more/.venv/lib/python3.11/site-packages (from langchain) (2.0.20)\n",
            "Requirement already satisfied: aiohttp<4.0.0,>=3.8.3 in /Users/iliagerman/Work/Sela/ai/courses/langchain_and_more/.venv/lib/python3.11/site-packages (from langchain) (3.8.5)\n",
            "Requirement already satisfied: dataclasses-json<0.6.0,>=0.5.7 in /Users/iliagerman/Work/Sela/ai/courses/langchain_and_more/.venv/lib/python3.11/site-packages (from langchain) (0.5.14)\n",
            "Requirement already satisfied: langsmith<0.1.0,>=0.0.21 in /Users/iliagerman/Work/Sela/ai/courses/langchain_and_more/.venv/lib/python3.11/site-packages (from langchain) (0.0.26)\n",
            "Requirement already satisfied: numexpr<3.0.0,>=2.8.4 in /Users/iliagerman/Work/Sela/ai/courses/langchain_and_more/.venv/lib/python3.11/site-packages (from langchain) (2.8.5)\n",
            "Requirement already satisfied: numpy<2,>=1 in /Users/iliagerman/Work/Sela/ai/courses/langchain_and_more/.venv/lib/python3.11/site-packages (from langchain) (1.25.2)\n",
            "Requirement already satisfied: pydantic<3,>=1 in /Users/iliagerman/Work/Sela/ai/courses/langchain_and_more/.venv/lib/python3.11/site-packages (from langchain) (1.10.12)\n",
            "Requirement already satisfied: requests<3,>=2 in /Users/iliagerman/Work/Sela/ai/courses/langchain_and_more/.venv/lib/python3.11/site-packages (from langchain) (2.31.0)\n",
            "Requirement already satisfied: tenacity<9.0.0,>=8.1.0 in /Users/iliagerman/Work/Sela/ai/courses/langchain_and_more/.venv/lib/python3.11/site-packages (from langchain) (8.2.3)\n",
            "Requirement already satisfied: attrs>=17.3.0 in /Users/iliagerman/Work/Sela/ai/courses/langchain_and_more/.venv/lib/python3.11/site-packages (from aiohttp<4.0.0,>=3.8.3->langchain) (23.1.0)\n",
            "Requirement already satisfied: charset-normalizer<4.0,>=2.0 in /Users/iliagerman/Work/Sela/ai/courses/langchain_and_more/.venv/lib/python3.11/site-packages (from aiohttp<4.0.0,>=3.8.3->langchain) (3.2.0)\n",
            "Requirement already satisfied: multidict<7.0,>=4.5 in /Users/iliagerman/Work/Sela/ai/courses/langchain_and_more/.venv/lib/python3.11/site-packages (from aiohttp<4.0.0,>=3.8.3->langchain) (6.0.4)\n",
            "Requirement already satisfied: async-timeout<5.0,>=4.0.0a3 in /Users/iliagerman/Work/Sela/ai/courses/langchain_and_more/.venv/lib/python3.11/site-packages (from aiohttp<4.0.0,>=3.8.3->langchain) (4.0.3)\n",
            "Requirement already satisfied: yarl<2.0,>=1.0 in /Users/iliagerman/Work/Sela/ai/courses/langchain_and_more/.venv/lib/python3.11/site-packages (from aiohttp<4.0.0,>=3.8.3->langchain) (1.9.2)\n",
            "Requirement already satisfied: frozenlist>=1.1.1 in /Users/iliagerman/Work/Sela/ai/courses/langchain_and_more/.venv/lib/python3.11/site-packages (from aiohttp<4.0.0,>=3.8.3->langchain) (1.4.0)\n",
            "Requirement already satisfied: aiosignal>=1.1.2 in /Users/iliagerman/Work/Sela/ai/courses/langchain_and_more/.venv/lib/python3.11/site-packages (from aiohttp<4.0.0,>=3.8.3->langchain) (1.3.1)\n",
            "Requirement already satisfied: marshmallow<4.0.0,>=3.18.0 in /Users/iliagerman/Work/Sela/ai/courses/langchain_and_more/.venv/lib/python3.11/site-packages (from dataclasses-json<0.6.0,>=0.5.7->langchain) (3.20.1)\n",
            "Requirement already satisfied: typing-inspect<1,>=0.4.0 in /Users/iliagerman/Work/Sela/ai/courses/langchain_and_more/.venv/lib/python3.11/site-packages (from dataclasses-json<0.6.0,>=0.5.7->langchain) (0.9.0)\n",
            "Requirement already satisfied: typing-extensions>=4.2.0 in /Users/iliagerman/Work/Sela/ai/courses/langchain_and_more/.venv/lib/python3.11/site-packages (from pydantic<3,>=1->langchain) (4.7.1)\n",
            "Requirement already satisfied: idna<4,>=2.5 in /Users/iliagerman/Work/Sela/ai/courses/langchain_and_more/.venv/lib/python3.11/site-packages (from requests<3,>=2->langchain) (3.4)\n",
            "Requirement already satisfied: urllib3<3,>=1.21.1 in /Users/iliagerman/Work/Sela/ai/courses/langchain_and_more/.venv/lib/python3.11/site-packages (from requests<3,>=2->langchain) (2.0.4)\n",
            "Requirement already satisfied: certifi>=2017.4.17 in /Users/iliagerman/Work/Sela/ai/courses/langchain_and_more/.venv/lib/python3.11/site-packages (from requests<3,>=2->langchain) (2023.7.22)\n",
            "Requirement already satisfied: greenlet!=0.4.17 in /Users/iliagerman/Work/Sela/ai/courses/langchain_and_more/.venv/lib/python3.11/site-packages (from SQLAlchemy<3,>=1.4->langchain) (2.0.2)\n",
            "Requirement already satisfied: packaging>=17.0 in /Users/iliagerman/Work/Sela/ai/courses/langchain_and_more/.venv/lib/python3.11/site-packages (from marshmallow<4.0.0,>=3.18.0->dataclasses-json<0.6.0,>=0.5.7->langchain) (23.1)\n",
            "Requirement already satisfied: mypy-extensions>=0.3.0 in /Users/iliagerman/Work/Sela/ai/courses/langchain_and_more/.venv/lib/python3.11/site-packages (from typing-inspect<1,>=0.4.0->dataclasses-json<0.6.0,>=0.5.7->langchain) (1.0.0)\n",
            "\n",
            "\u001b[1m[\u001b[0m\u001b[34;49mnotice\u001b[0m\u001b[1;39;49m]\u001b[0m\u001b[39;49m A new release of pip is available: \u001b[0m\u001b[31;49m23.3.1\u001b[0m\u001b[39;49m -> \u001b[0m\u001b[32;49m23.3.2\u001b[0m\n",
            "\u001b[1m[\u001b[0m\u001b[34;49mnotice\u001b[0m\u001b[1;39;49m]\u001b[0m\u001b[39;49m To update, run: \u001b[0m\u001b[32;49mpip install --upgrade pip\u001b[0m\n",
            "Requirement already satisfied: pypdf in /Users/iliagerman/Work/Sela/ai/courses/langchain_and_more/.venv/lib/python3.11/site-packages (3.15.4)\n",
            "\n",
            "\u001b[1m[\u001b[0m\u001b[34;49mnotice\u001b[0m\u001b[1;39;49m]\u001b[0m\u001b[39;49m A new release of pip is available: \u001b[0m\u001b[31;49m23.3.1\u001b[0m\u001b[39;49m -> \u001b[0m\u001b[32;49m23.3.2\u001b[0m\n",
            "\u001b[1m[\u001b[0m\u001b[34;49mnotice\u001b[0m\u001b[1;39;49m]\u001b[0m\u001b[39;49m To update, run: \u001b[0m\u001b[32;49mpip install --upgrade pip\u001b[0m\n",
            "Requirement already satisfied: unstructured in /Users/iliagerman/Work/Sela/ai/courses/langchain_and_more/.venv/lib/python3.11/site-packages (0.10.6)\n",
            "Requirement already satisfied: chardet in /Users/iliagerman/Work/Sela/ai/courses/langchain_and_more/.venv/lib/python3.11/site-packages (from unstructured) (5.2.0)\n",
            "Requirement already satisfied: filetype in /Users/iliagerman/Work/Sela/ai/courses/langchain_and_more/.venv/lib/python3.11/site-packages (from unstructured) (1.2.0)\n",
            "Requirement already satisfied: python-magic in /Users/iliagerman/Work/Sela/ai/courses/langchain_and_more/.venv/lib/python3.11/site-packages (from unstructured) (0.4.27)\n",
            "Requirement already satisfied: lxml in /Users/iliagerman/Work/Sela/ai/courses/langchain_and_more/.venv/lib/python3.11/site-packages (from unstructured) (4.9.3)\n",
            "Requirement already satisfied: nltk in /Users/iliagerman/Work/Sela/ai/courses/langchain_and_more/.venv/lib/python3.11/site-packages (from unstructured) (3.8.1)\n",
            "Requirement already satisfied: tabulate in /Users/iliagerman/Work/Sela/ai/courses/langchain_and_more/.venv/lib/python3.11/site-packages (from unstructured) (0.9.0)\n",
            "Requirement already satisfied: requests in /Users/iliagerman/Work/Sela/ai/courses/langchain_and_more/.venv/lib/python3.11/site-packages (from unstructured) (2.31.0)\n",
            "Requirement already satisfied: beautifulsoup4 in /Users/iliagerman/Work/Sela/ai/courses/langchain_and_more/.venv/lib/python3.11/site-packages (from unstructured) (4.12.2)\n",
            "Requirement already satisfied: emoji in /Users/iliagerman/Work/Sela/ai/courses/langchain_and_more/.venv/lib/python3.11/site-packages (from unstructured) (2.8.0)\n",
            "Requirement already satisfied: soupsieve>1.2 in /Users/iliagerman/Work/Sela/ai/courses/langchain_and_more/.venv/lib/python3.11/site-packages (from beautifulsoup4->unstructured) (2.4.1)\n",
            "Requirement already satisfied: click in /Users/iliagerman/Work/Sela/ai/courses/langchain_and_more/.venv/lib/python3.11/site-packages (from nltk->unstructured) (8.1.7)\n",
            "Requirement already satisfied: joblib in /Users/iliagerman/Work/Sela/ai/courses/langchain_and_more/.venv/lib/python3.11/site-packages (from nltk->unstructured) (1.3.2)\n",
            "Requirement already satisfied: regex>=2021.8.3 in /Users/iliagerman/Work/Sela/ai/courses/langchain_and_more/.venv/lib/python3.11/site-packages (from nltk->unstructured) (2023.8.8)\n",
            "Requirement already satisfied: tqdm in /Users/iliagerman/Work/Sela/ai/courses/langchain_and_more/.venv/lib/python3.11/site-packages (from nltk->unstructured) (4.66.1)\n",
            "Requirement already satisfied: charset-normalizer<4,>=2 in /Users/iliagerman/Work/Sela/ai/courses/langchain_and_more/.venv/lib/python3.11/site-packages (from requests->unstructured) (3.2.0)\n",
            "Requirement already satisfied: idna<4,>=2.5 in /Users/iliagerman/Work/Sela/ai/courses/langchain_and_more/.venv/lib/python3.11/site-packages (from requests->unstructured) (3.4)\n",
            "Requirement already satisfied: urllib3<3,>=1.21.1 in /Users/iliagerman/Work/Sela/ai/courses/langchain_and_more/.venv/lib/python3.11/site-packages (from requests->unstructured) (2.0.4)\n",
            "Requirement already satisfied: certifi>=2017.4.17 in /Users/iliagerman/Work/Sela/ai/courses/langchain_and_more/.venv/lib/python3.11/site-packages (from requests->unstructured) (2023.7.22)\n",
            "\n",
            "\u001b[1m[\u001b[0m\u001b[34;49mnotice\u001b[0m\u001b[1;39;49m]\u001b[0m\u001b[39;49m A new release of pip is available: \u001b[0m\u001b[31;49m23.3.1\u001b[0m\u001b[39;49m -> \u001b[0m\u001b[32;49m23.3.2\u001b[0m\n",
            "\u001b[1m[\u001b[0m\u001b[34;49mnotice\u001b[0m\u001b[1;39;49m]\u001b[0m\u001b[39;49m To update, run: \u001b[0m\u001b[32;49mpip install --upgrade pip\u001b[0m\n",
            "Requirement already satisfied: sentence_transformers in /Users/iliagerman/Work/Sela/ai/courses/langchain_and_more/.venv/lib/python3.11/site-packages (2.2.2)\n",
            "Requirement already satisfied: transformers<5.0.0,>=4.6.0 in /Users/iliagerman/Work/Sela/ai/courses/langchain_and_more/.venv/lib/python3.11/site-packages (from sentence_transformers) (4.32.0)\n",
            "Requirement already satisfied: tqdm in /Users/iliagerman/Work/Sela/ai/courses/langchain_and_more/.venv/lib/python3.11/site-packages (from sentence_transformers) (4.66.1)\n",
            "Requirement already satisfied: torch>=1.6.0 in /Users/iliagerman/Work/Sela/ai/courses/langchain_and_more/.venv/lib/python3.11/site-packages (from sentence_transformers) (2.0.1)\n",
            "Requirement already satisfied: torchvision in /Users/iliagerman/Work/Sela/ai/courses/langchain_and_more/.venv/lib/python3.11/site-packages (from sentence_transformers) (0.15.2)\n",
            "Requirement already satisfied: numpy in /Users/iliagerman/Work/Sela/ai/courses/langchain_and_more/.venv/lib/python3.11/site-packages (from sentence_transformers) (1.25.2)\n",
            "Requirement already satisfied: scikit-learn in /Users/iliagerman/Work/Sela/ai/courses/langchain_and_more/.venv/lib/python3.11/site-packages (from sentence_transformers) (1.3.0)\n",
            "Requirement already satisfied: scipy in /Users/iliagerman/Work/Sela/ai/courses/langchain_and_more/.venv/lib/python3.11/site-packages (from sentence_transformers) (1.11.2)\n",
            "Requirement already satisfied: nltk in /Users/iliagerman/Work/Sela/ai/courses/langchain_and_more/.venv/lib/python3.11/site-packages (from sentence_transformers) (3.8.1)\n",
            "Requirement already satisfied: sentencepiece in /Users/iliagerman/Work/Sela/ai/courses/langchain_and_more/.venv/lib/python3.11/site-packages (from sentence_transformers) (0.1.99)\n",
            "Requirement already satisfied: huggingface-hub>=0.4.0 in /Users/iliagerman/Work/Sela/ai/courses/langchain_and_more/.venv/lib/python3.11/site-packages (from sentence_transformers) (0.16.4)\n",
            "Requirement already satisfied: filelock in /Users/iliagerman/Work/Sela/ai/courses/langchain_and_more/.venv/lib/python3.11/site-packages (from huggingface-hub>=0.4.0->sentence_transformers) (3.12.2)\n",
            "Requirement already satisfied: fsspec in /Users/iliagerman/Work/Sela/ai/courses/langchain_and_more/.venv/lib/python3.11/site-packages (from huggingface-hub>=0.4.0->sentence_transformers) (2023.6.0)\n",
            "Requirement already satisfied: requests in /Users/iliagerman/Work/Sela/ai/courses/langchain_and_more/.venv/lib/python3.11/site-packages (from huggingface-hub>=0.4.0->sentence_transformers) (2.31.0)\n",
            "Requirement already satisfied: pyyaml>=5.1 in /Users/iliagerman/Work/Sela/ai/courses/langchain_and_more/.venv/lib/python3.11/site-packages (from huggingface-hub>=0.4.0->sentence_transformers) (6.0.1)\n",
            "Requirement already satisfied: typing-extensions>=3.7.4.3 in /Users/iliagerman/Work/Sela/ai/courses/langchain_and_more/.venv/lib/python3.11/site-packages (from huggingface-hub>=0.4.0->sentence_transformers) (4.7.1)\n",
            "Requirement already satisfied: packaging>=20.9 in /Users/iliagerman/Work/Sela/ai/courses/langchain_and_more/.venv/lib/python3.11/site-packages (from huggingface-hub>=0.4.0->sentence_transformers) (23.1)\n",
            "Requirement already satisfied: sympy in /Users/iliagerman/Work/Sela/ai/courses/langchain_and_more/.venv/lib/python3.11/site-packages (from torch>=1.6.0->sentence_transformers) (1.12)\n",
            "Requirement already satisfied: networkx in /Users/iliagerman/Work/Sela/ai/courses/langchain_and_more/.venv/lib/python3.11/site-packages (from torch>=1.6.0->sentence_transformers) (3.1)\n",
            "Requirement already satisfied: jinja2 in /Users/iliagerman/Work/Sela/ai/courses/langchain_and_more/.venv/lib/python3.11/site-packages (from torch>=1.6.0->sentence_transformers) (3.1.2)\n",
            "Requirement already satisfied: regex!=2019.12.17 in /Users/iliagerman/Work/Sela/ai/courses/langchain_and_more/.venv/lib/python3.11/site-packages (from transformers<5.0.0,>=4.6.0->sentence_transformers) (2023.8.8)\n",
            "Requirement already satisfied: tokenizers!=0.11.3,<0.14,>=0.11.1 in /Users/iliagerman/Work/Sela/ai/courses/langchain_and_more/.venv/lib/python3.11/site-packages (from transformers<5.0.0,>=4.6.0->sentence_transformers) (0.13.3)\n",
            "Requirement already satisfied: safetensors>=0.3.1 in /Users/iliagerman/Work/Sela/ai/courses/langchain_and_more/.venv/lib/python3.11/site-packages (from transformers<5.0.0,>=4.6.0->sentence_transformers) (0.3.3)\n",
            "Requirement already satisfied: click in /Users/iliagerman/Work/Sela/ai/courses/langchain_and_more/.venv/lib/python3.11/site-packages (from nltk->sentence_transformers) (8.1.7)\n",
            "Requirement already satisfied: joblib in /Users/iliagerman/Work/Sela/ai/courses/langchain_and_more/.venv/lib/python3.11/site-packages (from nltk->sentence_transformers) (1.3.2)\n",
            "Requirement already satisfied: threadpoolctl>=2.0.0 in /Users/iliagerman/Work/Sela/ai/courses/langchain_and_more/.venv/lib/python3.11/site-packages (from scikit-learn->sentence_transformers) (3.2.0)\n",
            "Requirement already satisfied: pillow!=8.3.*,>=5.3.0 in /Users/iliagerman/Work/Sela/ai/courses/langchain_and_more/.venv/lib/python3.11/site-packages (from torchvision->sentence_transformers) (10.0.0)\n",
            "Requirement already satisfied: MarkupSafe>=2.0 in /Users/iliagerman/Work/Sela/ai/courses/langchain_and_more/.venv/lib/python3.11/site-packages (from jinja2->torch>=1.6.0->sentence_transformers) (2.1.3)\n",
            "Requirement already satisfied: charset-normalizer<4,>=2 in /Users/iliagerman/Work/Sela/ai/courses/langchain_and_more/.venv/lib/python3.11/site-packages (from requests->huggingface-hub>=0.4.0->sentence_transformers) (3.2.0)\n",
            "Requirement already satisfied: idna<4,>=2.5 in /Users/iliagerman/Work/Sela/ai/courses/langchain_and_more/.venv/lib/python3.11/site-packages (from requests->huggingface-hub>=0.4.0->sentence_transformers) (3.4)\n",
            "Requirement already satisfied: urllib3<3,>=1.21.1 in /Users/iliagerman/Work/Sela/ai/courses/langchain_and_more/.venv/lib/python3.11/site-packages (from requests->huggingface-hub>=0.4.0->sentence_transformers) (2.0.4)\n",
            "Requirement already satisfied: certifi>=2017.4.17 in /Users/iliagerman/Work/Sela/ai/courses/langchain_and_more/.venv/lib/python3.11/site-packages (from requests->huggingface-hub>=0.4.0->sentence_transformers) (2023.7.22)\n",
            "Requirement already satisfied: mpmath>=0.19 in /Users/iliagerman/Work/Sela/ai/courses/langchain_and_more/.venv/lib/python3.11/site-packages (from sympy->torch>=1.6.0->sentence_transformers) (1.3.0)\n",
            "\n",
            "\u001b[1m[\u001b[0m\u001b[34;49mnotice\u001b[0m\u001b[1;39;49m]\u001b[0m\u001b[39;49m A new release of pip is available: \u001b[0m\u001b[31;49m23.3.1\u001b[0m\u001b[39;49m -> \u001b[0m\u001b[32;49m23.3.2\u001b[0m\n",
            "\u001b[1m[\u001b[0m\u001b[34;49mnotice\u001b[0m\u001b[1;39;49m]\u001b[0m\u001b[39;49m To update, run: \u001b[0m\u001b[32;49mpip install --upgrade pip\u001b[0m\n",
            "Requirement already satisfied: pinecone-client in /Users/iliagerman/Work/Sela/ai/courses/langchain_and_more/.venv/lib/python3.11/site-packages (2.2.4)\n",
            "Requirement already satisfied: requests>=2.19.0 in /Users/iliagerman/Work/Sela/ai/courses/langchain_and_more/.venv/lib/python3.11/site-packages (from pinecone-client) (2.31.0)\n",
            "Requirement already satisfied: pyyaml>=5.4 in /Users/iliagerman/Work/Sela/ai/courses/langchain_and_more/.venv/lib/python3.11/site-packages (from pinecone-client) (6.0.1)\n",
            "Requirement already satisfied: loguru>=0.5.0 in /Users/iliagerman/Work/Sela/ai/courses/langchain_and_more/.venv/lib/python3.11/site-packages (from pinecone-client) (0.7.2)\n",
            "Requirement already satisfied: typing-extensions>=3.7.4 in /Users/iliagerman/Work/Sela/ai/courses/langchain_and_more/.venv/lib/python3.11/site-packages (from pinecone-client) (4.7.1)\n",
            "Requirement already satisfied: dnspython>=2.0.0 in /Users/iliagerman/Work/Sela/ai/courses/langchain_and_more/.venv/lib/python3.11/site-packages (from pinecone-client) (2.4.2)\n",
            "Requirement already satisfied: python-dateutil>=2.5.3 in /Users/iliagerman/Work/Sela/ai/courses/langchain_and_more/.venv/lib/python3.11/site-packages (from pinecone-client) (2.8.2)\n",
            "Requirement already satisfied: urllib3>=1.21.1 in /Users/iliagerman/Work/Sela/ai/courses/langchain_and_more/.venv/lib/python3.11/site-packages (from pinecone-client) (2.0.4)\n",
            "Requirement already satisfied: tqdm>=4.64.1 in /Users/iliagerman/Work/Sela/ai/courses/langchain_and_more/.venv/lib/python3.11/site-packages (from pinecone-client) (4.66.1)\n",
            "Requirement already satisfied: numpy>=1.22.0 in /Users/iliagerman/Work/Sela/ai/courses/langchain_and_more/.venv/lib/python3.11/site-packages (from pinecone-client) (1.25.2)\n",
            "Requirement already satisfied: six>=1.5 in /Users/iliagerman/Work/Sela/ai/courses/langchain_and_more/.venv/lib/python3.11/site-packages (from python-dateutil>=2.5.3->pinecone-client) (1.16.0)\n",
            "Requirement already satisfied: charset-normalizer<4,>=2 in /Users/iliagerman/Work/Sela/ai/courses/langchain_and_more/.venv/lib/python3.11/site-packages (from requests>=2.19.0->pinecone-client) (3.2.0)\n",
            "Requirement already satisfied: idna<4,>=2.5 in /Users/iliagerman/Work/Sela/ai/courses/langchain_and_more/.venv/lib/python3.11/site-packages (from requests>=2.19.0->pinecone-client) (3.4)\n",
            "Requirement already satisfied: certifi>=2017.4.17 in /Users/iliagerman/Work/Sela/ai/courses/langchain_and_more/.venv/lib/python3.11/site-packages (from requests>=2.19.0->pinecone-client) (2023.7.22)\n",
            "\n",
            "\u001b[1m[\u001b[0m\u001b[34;49mnotice\u001b[0m\u001b[1;39;49m]\u001b[0m\u001b[39;49m A new release of pip is available: \u001b[0m\u001b[31;49m23.3.1\u001b[0m\u001b[39;49m -> \u001b[0m\u001b[32;49m23.3.2\u001b[0m\n",
            "\u001b[1m[\u001b[0m\u001b[34;49mnotice\u001b[0m\u001b[1;39;49m]\u001b[0m\u001b[39;49m To update, run: \u001b[0m\u001b[32;49mpip install --upgrade pip\u001b[0m\n",
            "Requirement already satisfied: pdf2image in /Users/iliagerman/Work/Sela/ai/courses/langchain_and_more/.venv/lib/python3.11/site-packages (1.16.3)\n",
            "Requirement already satisfied: pillow in /Users/iliagerman/Work/Sela/ai/courses/langchain_and_more/.venv/lib/python3.11/site-packages (from pdf2image) (10.0.0)\n",
            "\n",
            "\u001b[1m[\u001b[0m\u001b[34;49mnotice\u001b[0m\u001b[1;39;49m]\u001b[0m\u001b[39;49m A new release of pip is available: \u001b[0m\u001b[31;49m23.3.1\u001b[0m\u001b[39;49m -> \u001b[0m\u001b[32;49m23.3.2\u001b[0m\n",
            "\u001b[1m[\u001b[0m\u001b[34;49mnotice\u001b[0m\u001b[1;39;49m]\u001b[0m\u001b[39;49m To update, run: \u001b[0m\u001b[32;49mpip install --upgrade pip\u001b[0m\n",
            "Requirement already satisfied: pdfminer in /Users/iliagerman/Work/Sela/ai/courses/langchain_and_more/.venv/lib/python3.11/site-packages (20191125)\n",
            "Requirement already satisfied: pycryptodome in /Users/iliagerman/Work/Sela/ai/courses/langchain_and_more/.venv/lib/python3.11/site-packages (from pdfminer) (3.18.0)\n",
            "\n",
            "\u001b[1m[\u001b[0m\u001b[34;49mnotice\u001b[0m\u001b[1;39;49m]\u001b[0m\u001b[39;49m A new release of pip is available: \u001b[0m\u001b[31;49m23.3.1\u001b[0m\u001b[39;49m -> \u001b[0m\u001b[32;49m23.3.2\u001b[0m\n",
            "\u001b[1m[\u001b[0m\u001b[34;49mnotice\u001b[0m\u001b[1;39;49m]\u001b[0m\u001b[39;49m To update, run: \u001b[0m\u001b[32;49mpip install --upgrade pip\u001b[0m\n",
            "Requirement already satisfied: pdfminer.six in /Users/iliagerman/Work/Sela/ai/courses/langchain_and_more/.venv/lib/python3.11/site-packages (20221105)\n",
            "Requirement already satisfied: charset-normalizer>=2.0.0 in /Users/iliagerman/Work/Sela/ai/courses/langchain_and_more/.venv/lib/python3.11/site-packages (from pdfminer.six) (3.2.0)\n",
            "Requirement already satisfied: cryptography>=36.0.0 in /Users/iliagerman/Work/Sela/ai/courses/langchain_and_more/.venv/lib/python3.11/site-packages (from pdfminer.six) (41.0.3)\n",
            "Requirement already satisfied: cffi>=1.12 in /Users/iliagerman/Work/Sela/ai/courses/langchain_and_more/.venv/lib/python3.11/site-packages (from cryptography>=36.0.0->pdfminer.six) (1.15.1)\n",
            "Requirement already satisfied: pycparser in /Users/iliagerman/Work/Sela/ai/courses/langchain_and_more/.venv/lib/python3.11/site-packages (from cffi>=1.12->cryptography>=36.0.0->pdfminer.six) (2.21)\n",
            "\n",
            "\u001b[1m[\u001b[0m\u001b[34;49mnotice\u001b[0m\u001b[1;39;49m]\u001b[0m\u001b[39;49m A new release of pip is available: \u001b[0m\u001b[31;49m23.3.1\u001b[0m\u001b[39;49m -> \u001b[0m\u001b[32;49m23.3.2\u001b[0m\n",
            "\u001b[1m[\u001b[0m\u001b[34;49mnotice\u001b[0m\u001b[1;39;49m]\u001b[0m\u001b[39;49m To update, run: \u001b[0m\u001b[32;49mpip install --upgrade pip\u001b[0m\n",
            "Requirement already satisfied: openai in /Users/iliagerman/Work/Sela/ai/courses/langchain_and_more/.venv/lib/python3.11/site-packages (0.27.9)\n",
            "Requirement already satisfied: requests>=2.20 in /Users/iliagerman/Work/Sela/ai/courses/langchain_and_more/.venv/lib/python3.11/site-packages (from openai) (2.31.0)\n",
            "Requirement already satisfied: tqdm in /Users/iliagerman/Work/Sela/ai/courses/langchain_and_more/.venv/lib/python3.11/site-packages (from openai) (4.66.1)\n",
            "Requirement already satisfied: aiohttp in /Users/iliagerman/Work/Sela/ai/courses/langchain_and_more/.venv/lib/python3.11/site-packages (from openai) (3.8.5)\n",
            "Requirement already satisfied: charset-normalizer<4,>=2 in /Users/iliagerman/Work/Sela/ai/courses/langchain_and_more/.venv/lib/python3.11/site-packages (from requests>=2.20->openai) (3.2.0)\n",
            "Requirement already satisfied: idna<4,>=2.5 in /Users/iliagerman/Work/Sela/ai/courses/langchain_and_more/.venv/lib/python3.11/site-packages (from requests>=2.20->openai) (3.4)\n",
            "Requirement already satisfied: urllib3<3,>=1.21.1 in /Users/iliagerman/Work/Sela/ai/courses/langchain_and_more/.venv/lib/python3.11/site-packages (from requests>=2.20->openai) (2.0.4)\n",
            "Requirement already satisfied: certifi>=2017.4.17 in /Users/iliagerman/Work/Sela/ai/courses/langchain_and_more/.venv/lib/python3.11/site-packages (from requests>=2.20->openai) (2023.7.22)\n",
            "Requirement already satisfied: attrs>=17.3.0 in /Users/iliagerman/Work/Sela/ai/courses/langchain_and_more/.venv/lib/python3.11/site-packages (from aiohttp->openai) (23.1.0)\n",
            "Requirement already satisfied: multidict<7.0,>=4.5 in /Users/iliagerman/Work/Sela/ai/courses/langchain_and_more/.venv/lib/python3.11/site-packages (from aiohttp->openai) (6.0.4)\n",
            "Requirement already satisfied: async-timeout<5.0,>=4.0.0a3 in /Users/iliagerman/Work/Sela/ai/courses/langchain_and_more/.venv/lib/python3.11/site-packages (from aiohttp->openai) (4.0.3)\n",
            "Requirement already satisfied: yarl<2.0,>=1.0 in /Users/iliagerman/Work/Sela/ai/courses/langchain_and_more/.venv/lib/python3.11/site-packages (from aiohttp->openai) (1.9.2)\n",
            "Requirement already satisfied: frozenlist>=1.1.1 in /Users/iliagerman/Work/Sela/ai/courses/langchain_and_more/.venv/lib/python3.11/site-packages (from aiohttp->openai) (1.4.0)\n",
            "Requirement already satisfied: aiosignal>=1.1.2 in /Users/iliagerman/Work/Sela/ai/courses/langchain_and_more/.venv/lib/python3.11/site-packages (from aiohttp->openai) (1.3.1)\n",
            "\n",
            "\u001b[1m[\u001b[0m\u001b[34;49mnotice\u001b[0m\u001b[1;39;49m]\u001b[0m\u001b[39;49m A new release of pip is available: \u001b[0m\u001b[31;49m23.3.1\u001b[0m\u001b[39;49m -> \u001b[0m\u001b[32;49m23.3.2\u001b[0m\n",
            "\u001b[1m[\u001b[0m\u001b[34;49mnotice\u001b[0m\u001b[1;39;49m]\u001b[0m\u001b[39;49m To update, run: \u001b[0m\u001b[32;49mpip install --upgrade pip\u001b[0m\n",
            "Requirement already satisfied: tiktoken in /Users/iliagerman/Work/Sela/ai/courses/langchain_and_more/.venv/lib/python3.11/site-packages (0.4.0)\n",
            "Requirement already satisfied: regex>=2022.1.18 in /Users/iliagerman/Work/Sela/ai/courses/langchain_and_more/.venv/lib/python3.11/site-packages (from tiktoken) (2023.8.8)\n",
            "Requirement already satisfied: requests>=2.26.0 in /Users/iliagerman/Work/Sela/ai/courses/langchain_and_more/.venv/lib/python3.11/site-packages (from tiktoken) (2.31.0)\n",
            "Requirement already satisfied: charset-normalizer<4,>=2 in /Users/iliagerman/Work/Sela/ai/courses/langchain_and_more/.venv/lib/python3.11/site-packages (from requests>=2.26.0->tiktoken) (3.2.0)\n",
            "Requirement already satisfied: idna<4,>=2.5 in /Users/iliagerman/Work/Sela/ai/courses/langchain_and_more/.venv/lib/python3.11/site-packages (from requests>=2.26.0->tiktoken) (3.4)\n",
            "Requirement already satisfied: urllib3<3,>=1.21.1 in /Users/iliagerman/Work/Sela/ai/courses/langchain_and_more/.venv/lib/python3.11/site-packages (from requests>=2.26.0->tiktoken) (2.0.4)\n",
            "Requirement already satisfied: certifi>=2017.4.17 in /Users/iliagerman/Work/Sela/ai/courses/langchain_and_more/.venv/lib/python3.11/site-packages (from requests>=2.26.0->tiktoken) (2023.7.22)\n",
            "\n",
            "\u001b[1m[\u001b[0m\u001b[34;49mnotice\u001b[0m\u001b[1;39;49m]\u001b[0m\u001b[39;49m A new release of pip is available: \u001b[0m\u001b[31;49m23.3.1\u001b[0m\u001b[39;49m -> \u001b[0m\u001b[32;49m23.3.2\u001b[0m\n",
            "\u001b[1m[\u001b[0m\u001b[34;49mnotice\u001b[0m\u001b[1;39;49m]\u001b[0m\u001b[39;49m To update, run: \u001b[0m\u001b[32;49mpip install --upgrade pip\u001b[0m\n"
          ]
        }
      ],
      "source": [
        "!pip install langchain\n",
        "!pip install pypdf\n",
        "!pip install unstructured\n",
        "!pip install sentence_transformers\n",
        "!pip install pinecone-client\n",
        "!pip install pdf2image\n",
        "!pip install pdfminer\n",
        "!pip install pdfminer.six\n",
        "!pip install openai\n",
        "!pip install tiktoken"
      ]
    },
    {
      "cell_type": "code",
      "execution_count": null,
      "metadata": {},
      "outputs": [],
      "source": [
        "from langchain.document_loaders import PyPDFLoader\n",
        "from langchain.text_splitter import RecursiveCharacterTextSplitter\n",
        "from langchain.vectorstores import Pinecone\n",
        "from langchain.chains.question_answering import load_qa_chain\n",
        "from langchain.chat_models import ChatOpenAI\n",
        "\n",
        "import pinecone\n",
        "import os\n",
        "PINECONE_API_KEY = os.environ.get('PINECONE_API_KEY', '')\n",
        "PINECONE_API_ENV = os.environ.get('PINECONE_API_ENV', 'us-east1-gcp')\n",
        "os.environ['OPENAI_API_KEY'] = \"\""
      ]
    },
    {
      "cell_type": "code",
      "execution_count": 61,
      "metadata": {
        "id": "okB7VOKMTRu8"
      },
      "outputs": [],
      "source": [
        "\n"
      ]
    },
    {
      "cell_type": "code",
      "execution_count": 9,
      "metadata": {
        "id": "uAe8rw9jTaNk"
      },
      "outputs": [],
      "source": [
        "loader = PyPDFLoader(\"https://www.ema.europa.eu/en/documents/regulatory-procedural-guideline/user-guide-how-generate-pdf-versions-product-information-veterinary_en.pdf\")"
      ]
    },
    {
      "cell_type": "code",
      "execution_count": 10,
      "metadata": {
        "id": "CZl8_GiaTrY3"
      },
      "outputs": [],
      "source": [
        "data = loader.load()"
      ]
    },
    {
      "cell_type": "code",
      "execution_count": 11,
      "metadata": {
        "id": "URvGstJeTtr5"
      },
      "outputs": [
        {
          "data": {
            "text/plain": [
              "[Document(page_content=' \\n.  \\nOfficial address   Domenico Scarlattilaan 6   ●  1083 HS Amsterdam   ●  The Netherlands   \\n An agency of the European Union      \\n  Address for visits and deliveries   Refer to www.ema.europa.eu/how -to-find-us  \\nSend us a question  Go to www.ema.europa.eu/contact   Telephone +31 (0)88 781  6000 \\n \\n \\n© European Medicines Agency,  2023. Reproduction is authorised provided the source is acknowledged.  12 May 2023  \\nEMA/793983/2010 v. 4.01 \\nVeterinary Medicines  Division  \\nUser guide on how to generate PDF versions of the \\nproduct information - veterinary \\nIntroduction  \\nSince the product information consists of the combination of summary of product characteristics \\n(Annex I), labelling (Annex IIIA), package leaflet (Annex IIIB) and conditions of the marketing authorisation (Annex II), the PDF version of the product information requires bookmarks to identify the \\nlocation of these different Annexes with in the single file. File properties are also needed to correctly \\nreference the product information.  \\nThe properties and bookmarks can be set in two ways: \\n1. directly in the PDF document each time after conversion (method 1 , pages 1- 4) \\n2. in the Word source document prior to conversion to PDF ( method 2 , pages 4- 8).  \\nMethod 1 has the advantage that the bookmark will direct you to the top of the page instead of to the \\nspecific line in the text. It is also possible to select more than one full product  name  in one bookmark.  \\nMethod 2 has the advantage that properties and bookmarks need only be defined once in the Word file \\nfor each language version; they will be maintained for each subsequent revision of the product \\ninformation and are automatically carried over in  the converted PDF files.  \\nThe two methods are explained below.  \\nMethod 1: setting properties and bookmarks in the generated PDF files \\n1. Conversion of the Word source file into PDF  \\nBefore converting to PDF, accept all highlights (track changes) and comments fr om the Word source \\nfile. Use any appropriate method and software to convert the Word source file into a PDF file.  \\n2. Setting bookmarks and properties in the converted PDF file  \\n1. Open  the generated PDF file in Adobe Acrobat Writer.  \\n2. Scroll through the document to  check the quality of the conversion. In particular check \\nthat the PDF conversion from Word has not created extra blank pages to the original \\ndocument. If blank pages are present in the PDF document, amend the page break \\ncorresponding to the blank pages in  the Word source file and convert to PDF again.  \\n3. Click on the Bookmarks  tab (left).  \\n \\n1 User guide revised with updated document properties  requirements.  ', metadata={'source': '/var/folders/wb/z0x047fj5llby_8fmwk6v9xm0000gn/T/tmpyfwh6p_m/tmp.pdf', 'page': 0}),\n",
              " Document(page_content=' \\n \\nUser guide on how to generat e PDF versions of the product information - veterinary    \\nEMA/793983/2010   Page 2/10 \\n \\n 4. Click on the Select  icon from the main toolbar to initiate the bookmarking.  \\n5. Select the following text on the TITLE PAGE of Annex I:  \\nSUMMARY OF PRODUCT CHARACTERISTICS  \\n6. Click Ctrl+B  to create the new bookmark  or alternatively mark the heading and select \\nthe icon “new bookmark” on the left- hand side column . \\n7. In case of product information with more than one SPC  (i.e several products compiled \\nin one set of annexes) : steps 5 and 6 also need to be repeated for the text under section \\n1 in each SPC: \\ne.g. \\nImaginary 10 mg/ml solution for injection for cattle and pigs  \\nImaginary 2 mg/ml oral suspension for dogs  \\nIn case more than one full product  name  is listed under section 1 all of them s hould be \\nbookmarked : \\ne.g. \\nImaginary 1 mg chewable tablets for dogs  \\nImaginary 3 mg chewable tablets for dogs  \\n8. Repeat steps 5 and 6 to create bookmarks for the TITLE PAGE of Annex II:  \\nANNEX II  \\n9. Repeat steps 5 and 6 to create bookmarks for the TITLE PAGE of Ann exe IIIA:  \\nA. LABELLING  (on the Annex IIIA title page)  \\nIn case of product information with more than one SPC  (i.e several products compiled \\nin one set of annexes) : steps 5 and 6 need to be repeated for the text under labelling \\nsection 1 for each product and  just for the outer carton label:  \\ne.g.: \\nPARTICULARS  TO APPEAR  ON THE OUTER  CARTON  \\nOnly bookmark the full product name  under labelling section 1:  \\nImaginary 10 mg/ml solution for injection for cattle and pigs  \\n10. Repeat steps 5 and 6 to create bookmarks for the TITLE PAGE of Annex IIIB:  \\nB. PACKAGE LEAFLET  (on the Annex IIIB title page)2 \\n \\n2 In case of product information with more t han one package leaflet: steps 5 and 6 need to be repeated for the text under \\nsection 2 for each package leaflet.  \\n ', metadata={'source': '/var/folders/wb/z0x047fj5llby_8fmwk6v9xm0000gn/T/tmpyfwh6p_m/tmp.pdf', 'page': 1}),\n",
              " Document(page_content=' \\n \\nUser guide on how to generate PDF versions of the product information - veterinary    \\nEMA/793983/2010   Page 3/10 \\n \\n 11. On the  View  menu, click Navigation Panels and Bookmarks . This displays the \\nbookmarks on the left hand side of the document. Verify that the bookmarks appear \\naccording to the pic ture below.  \\n \\n \\n12. On the File  menu, click Document Properties  (or click Ctrl+D). This opens the \\nProperties.  \\n13. Click on the Description  tab and enter the following information, for example for a \\nproduct with the invented name ‘Imaginary’ and with INN ‘examplamin  sodium’  (for \\nvaccine products only the product name should be mentioned) :  \\n• Title: Imaginary, INN -examplamin sodium  \\n• Subject: EPAR  \\n• Author: CVMP  \\n• Keywords: Imaginary, INN -examplamin sodium  ', metadata={'source': '/var/folders/wb/z0x047fj5llby_8fmwk6v9xm0000gn/T/tmpyfwh6p_m/tmp.pdf', 'page': 2}),\n",
              " Document(page_content=' \\n \\nUser guide on how to generate PDF versions of the product information - veterinary    \\nEMA/793983/2010   Page 4/10 \\n \\n \\n \\n• Click on the Initial View  tab and under Navigation tab select ‘Bookm arks Panel and \\nPage’ (this will ensure that readers see the bookmarks on opening the document).  \\n \\n \\n \\n \\n14. Click OK to close the Properties.  \\n15. Save  the generated PDF file using the file naming conventions described at the end of \\nthis guide.  \\nMethod 2: setting properties and bookmarks in the Word files and conversion to PDF  \\n1. Preparation of the Word source files ', metadata={'source': '/var/folders/wb/z0x047fj5llby_8fmwk6v9xm0000gn/T/tmpyfwh6p_m/tmp.pdf', 'page': 3}),\n",
              " Document(page_content=' \\n \\nUser guide on how to generate PDF versions of the product informatio n - veterinary    \\nEMA/793983/2010   Page 5/10 \\n \\n The following steps should be performed to appropriately set up the Word source files to ensure that \\nproperties and bookmarks are automatically carried o ver to PDF files that are generated from the Word \\nsource files.  \\n1. Open  the Word source file of the product information composed of Annex I (SPC), Annex \\nII, Annex IIIA (Labelling) and Annex IIIB (Package Leaflet).  \\n2. On the File  menu, click Properties . This open s the file properties.  \\n3. Click on the Summar y tab and enter the following information, for example for a product \\nwith the invented name ‘Imaginary’ and with INN ‘examplamin sodium’  sodium’ (for \\nvaccine products only the product name should be mentioned) :  \\n• Title: Imaginary, INN -examplamin sodium  \\n• Subject: EPAR  \\n• Author: CVMP  \\n• Keywords: Imaginary, INN -examplamin sodium  \\n \\n4. Click OK and save the file to commit the changes.  \\n5. To automatically set bookmarks based on styles in Word, the styles for the text to be \\nbookmarked  need to be renamed . \\n1. Rename the style of the TITLE PAGES text shown below:  ', metadata={'source': '/var/folders/wb/z0x047fj5llby_8fmwk6v9xm0000gn/T/tmpyfwh6p_m/tmp.pdf', 'page': 4}),\n",
              " Document(page_content=' \\n \\nUser guide on how to generate PDF versions of the product information - veterinary    \\nEMA/793983/2010   Page 6/10 \\n \\n SUMMARY OF PRODUCT CHARACTERISTICS  (on the Annex I title page)  \\nANNEX II  (on the Annex II title page)  \\nA. LABELLING  (on the Annex IIIA title page)  \\nB. PACKAGE LEAFLET  (on the Annex  IIIB title page)  \\nThis can be done as follows: \\n• highlight the title page text \\n• click on menu Format / Styles and formatting / New style  \\n• enter an appropriate name for that style (e. g. ‘ Title A ’) in the Name field  \\n• click OK \\n• highlight the next  title p age text  \\n• on menu Format / Styles and formatting  click the  just created  ‘Title A ’ to apply \\nthe style \\n• etc. \\nIn case of product information with more than one SPC  (i.e. several products compiled \\nin one set of annexes)  the style for the full name of product t ext under SPC section  1, \\nlabelling section 1 and package leaflet section 2 also need s to be defined. This needs to \\nbe done for the text of each  product in the set of annexes.  \\nThis can be done as follows: \\n• highlight the appropriate full product name text \\n• click on menu Format / Styles and formatting / New style  \\n• enter an appropriate name for that style (e. g. ‘ Title B ’) in the Name field  \\n• click OK \\n• highlight the next text  \\n• on menu Format / Styles and formatting  click the just created  ‘Title B ’ to appl y \\nthe style.  \\n• etc. \\n2. Save the file to commit the changes.  \\n2. Conversion of the Word source file into PDF  \\nThe following steps should be performed to correctly convert an appropriately set Word source file into \\nthe final PDF file. Adobe Acrobat Writer must be properly installed on the same computer so that the \\nAdobe PDF appears in Word. Before converting to PDF, accept all highlights (track changes) and \\ncomments from the Word source file.  \\n1. On the Adobe PDF  menu in Word, click Change Conversion Settings . \\n2. On the Settings tab , make sure that only  the following boxes are ticked:  \\n• Convert Document Information  ', metadata={'source': '/var/folders/wb/z0x047fj5llby_8fmwk6v9xm0000gn/T/tmpyfwh6p_m/tmp.pdf', 'page': 5}),\n",
              " Document(page_content=' \\n \\nUser guide on how to generate PDF versions of the product information - veterinary    \\nEMA/793983/2010   Page 7/10 \\n \\n • Add bookmarks to Adobe PDF  \\n• Add links to Adobe PDF.  \\n3. Go to Advanced Settings  and under “Compatibility” select Acrobat 5.0  or higher  from \\nthe dropdown list and click OK.  \\n4. On the Bookmarks  tab, make sure that only  the boxes corresponding to the two styles \\ndefined in the previous steps  (e.g. Title A and Title B)  for TITLE PAGES text and for the \\nfull product name are ticked.  \\n \\n \\n5. Click OK to ac cept changes and to close the Conversion Settings. Save the changes.  \\n6. On the Adobe PDF menu, click Convert to Adobe PDF.  \\nNote: A warning may pop up, in which case it is recommended to select take off tagging \\nfor a faster conversion to PDF.  \\n7. Save the generated PDF file using the file naming conventions described at the end of \\nthis guide.  \\n8. Open the generated PDF.  \\n9. On the File menu, click Document Properties (or click Ctrl+D). This opens the Properties.  \\n10. Click on the Initial View tab  and under Navig ation tab  select ‘Bookmarks Panel and \\nPage’ (this will ensure that readers see the bookmarks on opening the document).  \\n ', metadata={'source': '/var/folders/wb/z0x047fj5llby_8fmwk6v9xm0000gn/T/tmpyfwh6p_m/tmp.pdf', 'page': 6}),\n",
              " Document(page_content=' \\n \\nUser guide on how to generate PDF versions of the product information - veterinary    \\nEMA/793983/2010   Page 8/10 \\n \\n \\n \\n11. Save the file and close.  \\n3. Verification of the generated PDF file  \\nPerform the following check to ensure that the PDF file has been properly generated:  \\n1. Open the generated file with Adobe Acrobat Reader.  \\n2. Verify that upon opening the bookmarks appear according to the picture below (in the \\nevent of extra bookmarks being created, delete those not relevant).  \\n \\n \\n3. On the Fil e menu, click Document Properties (or Ctrl+D) . This opens the Properties.  ', metadata={'source': '/var/folders/wb/z0x047fj5llby_8fmwk6v9xm0000gn/T/tmpyfwh6p_m/tmp.pdf', 'page': 7}),\n",
              " Document(page_content=' \\n \\nUser guide on how to generate PDF ve rsions of the product information - veterinary    \\nEMA/793983/2010   Page 9/10 \\n \\n \\n \\n4. Click on the Description  tab. Verify that the information for Title, Author, Subject and \\nKeywords are correct.  \\n5. Click on the Initial View . Verify that the information is correct.  \\n6. Close  the Properties.  \\n7. Click on the “Pages” tab and scroll through the document to check the quality of the \\nconversion. In particular check that the PDF conversion from Word has not created extra \\nblank pages to the original doc ument. If blank pages are present in the PDF document, \\namend the page break corresponding to the blank pages in the Word source file and convert to PDF again.  ', metadata={'source': '/var/folders/wb/z0x047fj5llby_8fmwk6v9xm0000gn/T/tmpyfwh6p_m/tmp.pdf', 'page': 8}),\n",
              " Document(page_content=' \\n \\nUser guide on how to generate PDF versions of the product information - veterinary    \\nEMA/793983/2010   Page 10/10 \\n \\n File naming convention to be used for the generated PDF files  \\nPlease refer to the Annex 2 of Cha pter 2 from the Implementation Guide on veterinary medicines \\nproduct data in the UPD ( VET EU IG ) for obtaining detailed information on the relevant specifications \\nthat apply to product information documents that will be uploaded into the Union Product Database \\n(UPD) . ', metadata={'source': '/var/folders/wb/z0x047fj5llby_8fmwk6v9xm0000gn/T/tmpyfwh6p_m/tmp.pdf', 'page': 9})]"
            ]
          },
          "execution_count": 11,
          "metadata": {},
          "output_type": "execute_result"
        }
      ],
      "source": [
        "data"
      ]
    },
    {
      "cell_type": "code",
      "execution_count": 12,
      "metadata": {
        "id": "rSG3BDRXTvvK"
      },
      "outputs": [],
      "source": [
        "text_splitter=RecursiveCharacterTextSplitter(chunk_size=500, chunk_overlap=0)"
      ]
    },
    {
      "cell_type": "code",
      "execution_count": 42,
      "metadata": {
        "id": "RQ_kX8VcT200"
      },
      "outputs": [],
      "source": [
        "docs=text_splitter.split_documents(data)"
      ]
    },
    {
      "cell_type": "code",
      "execution_count": 43,
      "metadata": {
        "colab": {
          "base_uri": "https://localhost:8080/"
        },
        "id": "Gdxdp4xxT4XM",
        "outputId": "a51ac37a-4ebf-425b-b42e-0e73b55669e9"
      },
      "outputs": [
        {
          "data": {
            "text/plain": [
              "31"
            ]
          },
          "execution_count": 43,
          "metadata": {},
          "output_type": "execute_result"
        }
      ],
      "source": [
        "len(docs)"
      ]
    },
    {
      "cell_type": "code",
      "execution_count": 76,
      "metadata": {
        "id": "OxA_qEMx2nW9"
      },
      "outputs": [],
      "source": [
        "import os\n",
        "# PINECONE_API_ENV = os.environ.get('PINECONE_API_ENV', 'us-east1-gcp')\n",
        "\n",
        "\n",
        "from langchain.embeddings.openai import OpenAIEmbeddings\n",
        "embeddings = OpenAIEmbeddings()"
      ]
    },
    {
      "cell_type": "code",
      "execution_count": 47,
      "metadata": {
        "id": "wCjlXg3gUAn2"
      },
      "outputs": [],
      "source": [
        "pinecone.init(\n",
        "    api_key=PINECONE_API_KEY,\n",
        "    environment=PINECONE_API_ENV\n",
        ")\n",
        "index_name = \"index-1\""
      ]
    },
    {
      "cell_type": "code",
      "execution_count": 48,
      "metadata": {
        "id": "z0GAmbyiUBYM"
      },
      "outputs": [],
      "source": [
        "#New\n",
        "# docsearch = Pinecone.from_documents(docs, embeddings, index_name=index_name)\n",
        "\n",
        "#Current\n",
        "# docsearch = Pinecone.from_existing_index(index_name, embeddings)\n",
        "docsearch = Pinecone.from_documents(docs, embeddings, index_name=index_name)"
      ]
    },
    {
      "cell_type": "code",
      "execution_count": 49,
      "metadata": {
        "id": "wJ4dHvgCUC0m"
      },
      "outputs": [],
      "source": [
        "query=\"Whas is the advantage of Method 2?\""
      ]
    },
    {
      "cell_type": "code",
      "execution_count": 50,
      "metadata": {
        "id": "fHiPfwdqUO0P"
      },
      "outputs": [],
      "source": [
        "docs=docsearch.similarity_search(query)"
      ]
    },
    {
      "cell_type": "code",
      "execution_count": 51,
      "metadata": {
        "id": "DXJelIUcUQdy"
      },
      "outputs": [
        {
          "data": {
            "text/plain": [
              "[Document(page_content='specific line in the text. It is also possible to select more than one full product  name  in one bookmark.  \\nMethod 2 has the advantage that properties and bookmarks need only be defined once in the Word file \\nfor each language version; they will be maintained for each subsequent revision of the product \\ninformation and are automatically carried over in  the converted PDF files.  \\nThe two methods are explained below.  \\nMethod 1: setting properties and bookmarks in the generated PDF files', metadata={'page': 0.0, 'source': '/var/folders/wb/z0x047fj5llby_8fmwk6v9xm0000gn/T/tmpyfwh6p_m/tmp.pdf'}),\n",
              " Document(page_content='Method 2: setting properties and bookmarks in the Word files and conversion to PDF  \\n1. Preparation of the Word source files', metadata={'page': 3.0, 'source': '/var/folders/wb/z0x047fj5llby_8fmwk6v9xm0000gn/T/tmpyfwh6p_m/tmp.pdf'}),\n",
              " Document(page_content='2 In case of product information with more t han one package leaflet: steps 5 and 6 need to be repeated for the text under \\nsection 2 for each package leaflet.', metadata={'page': 1.0, 'source': '/var/folders/wb/z0x047fj5llby_8fmwk6v9xm0000gn/T/tmpyfwh6p_m/tmp.pdf'}),\n",
              " Document(page_content='User guide on how to generate PDF versions of the product information - veterinary    \\nEMA/793983/2010   Page 6/10 \\n \\n SUMMARY OF PRODUCT CHARACTERISTICS  (on the Annex I title page)  \\nANNEX II  (on the Annex II title page)  \\nA. LABELLING  (on the Annex IIIA title page)  \\nB. PACKAGE LEAFLET  (on the Annex  IIIB title page)  \\nThis can be done as follows: \\n• highlight the title page text \\n• click on menu Format / Styles and formatting / New style', metadata={'page': 5.0, 'source': '/var/folders/wb/z0x047fj5llby_8fmwk6v9xm0000gn/T/tmpyfwh6p_m/tmp.pdf'})]"
            ]
          },
          "execution_count": 51,
          "metadata": {},
          "output_type": "execute_result"
        }
      ],
      "source": [
        "docs"
      ]
    },
    {
      "cell_type": "code",
      "execution_count": 62,
      "metadata": {
        "id": "OZidcuKF3qJd"
      },
      "outputs": [],
      "source": [
        "llm=ChatOpenAI(model=\"gpt-4\")"
      ]
    },
    {
      "cell_type": "code",
      "execution_count": 63,
      "metadata": {
        "id": "MWpxjBD5UkvE"
      },
      "outputs": [],
      "source": [
        "chain=load_qa_chain(llm, chain_type=\"stuff\")"
      ]
    },
    {
      "cell_type": "code",
      "execution_count": 73,
      "metadata": {
        "id": "3AQ5T3EyUmSN"
      },
      "outputs": [],
      "source": [
        "query=\"Whas is the advantage of Method 2\"\n",
        "docs=docsearch.similarity_search(query)"
      ]
    },
    {
      "cell_type": "code",
      "execution_count": 72,
      "metadata": {
        "id": "KC0yvGvHUqOZ"
      },
      "outputs": [
        {
          "data": {
            "text/plain": [
              "\"I'm sorry, but the provided context doesn't provide information on examples of good data science teams.\""
            ]
          },
          "execution_count": 72,
          "metadata": {},
          "output_type": "execute_result"
        }
      ],
      "source": [
        "chain.run(input_documents=docs, question=query)"
      ]
    },
    {
      "cell_type": "code",
      "execution_count": 69,
      "metadata": {
        "id": "W9TNryQqU0_N"
      },
      "outputs": [
        {
          "data": {
            "text/plain": [
              "[Document(page_content='13. Click on the Description  tab and enter the following information, for example for a \\nproduct with the invented name ‘Imaginary’ and with INN ‘examplamin  sodium’  (for \\nvaccine products only the product name should be mentioned) :  \\n• Title: Imaginary, INN -examplamin sodium  \\n• Subject: EPAR  \\n• Author: CVMP  \\n• Keywords: Imaginary, INN -examplamin sodium', metadata={'page': 2.0, 'source': '/var/folders/wb/z0x047fj5llby_8fmwk6v9xm0000gn/T/tmpyfwh6p_m/tmp.pdf'}),\n",
              " Document(page_content='7. In case of product information with more than one SPC  (i.e several products compiled \\nin one set of annexes) : steps 5 and 6 also need to be repeated for the text under section \\n1 in each SPC: \\ne.g. \\nImaginary 10 mg/ml solution for injection for cattle and pigs  \\nImaginary 2 mg/ml oral suspension for dogs  \\nIn case more than one full product  name  is listed under section 1 all of them s hould be \\nbookmarked : \\ne.g. \\nImaginary 1 mg chewable tablets for dogs', metadata={'page': 1.0, 'source': '/var/folders/wb/z0x047fj5llby_8fmwk6v9xm0000gn/T/tmpyfwh6p_m/tmp.pdf'}),\n",
              " Document(page_content='2. On the File  menu, click Properties . This open s the file properties.  \\n3. Click on the Summar y tab and enter the following information, for example for a product \\nwith the invented name ‘Imaginary’ and with INN ‘examplamin sodium’  sodium’ (for \\nvaccine products only the product name should be mentioned) :  \\n• Title: Imaginary, INN -examplamin sodium  \\n• Subject: EPAR  \\n• Author: CVMP  \\n• Keywords: Imaginary, INN -examplamin sodium', metadata={'page': 4.0, 'source': '/var/folders/wb/z0x047fj5llby_8fmwk6v9xm0000gn/T/tmpyfwh6p_m/tmp.pdf'}),\n",
              " Document(page_content='.  \\nOfficial address   Domenico Scarlattilaan 6   ●  1083 HS Amsterdam   ●  The Netherlands   \\n An agency of the European Union      \\n  Address for visits and deliveries   Refer to www.ema.europa.eu/how -to-find-us  \\nSend us a question  Go to www.ema.europa.eu/contact   Telephone +31 (0)88 781  6000 \\n \\n \\n© European Medicines Agency,  2023. Reproduction is authorised provided the source is acknowledged.  12 May 2023  \\nEMA/793983/2010 v. 4.01 \\nVeterinary Medicines  Division', metadata={'page': 0.0, 'source': '/var/folders/wb/z0x047fj5llby_8fmwk6v9xm0000gn/T/tmpyfwh6p_m/tmp.pdf'})]"
            ]
          },
          "execution_count": 69,
          "metadata": {},
          "output_type": "execute_result"
        }
      ],
      "source": [
        "query=\"What are examples of good data science teams?\"\n",
        "docs=docsearch.similarity_search(query)\n",
        "docs"
      ]
    },
    {
      "cell_type": "code",
      "execution_count": 70,
      "metadata": {
        "id": "YYj4TG-1U2cH"
      },
      "outputs": [
        {
          "data": {
            "text/plain": [
              "\"I'm sorry, but the information provided does not include any details about good data science teams.\""
            ]
          },
          "execution_count": 70,
          "metadata": {},
          "output_type": "execute_result"
        }
      ],
      "source": [
        "chain.run(input_documents=docs, question=query)"
      ]
    }
  ],
  "metadata": {
    "accelerator": "GPU",
    "colab": {
      "gpuType": "T4",
      "provenance": []
    },
    "kernelspec": {
      "display_name": "Python 3",
      "name": "python3"
    },
    "language_info": {
      "codemirror_mode": {
        "name": "ipython",
        "version": 3
      },
      "file_extension": ".py",
      "mimetype": "text/x-python",
      "name": "python",
      "nbconvert_exporter": "python",
      "pygments_lexer": "ipython3",
      "version": "3.11.7"
    }
  },
  "nbformat": 4,
  "nbformat_minor": 0
}
